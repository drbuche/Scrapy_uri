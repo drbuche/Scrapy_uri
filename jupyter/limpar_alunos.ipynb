{
 "cells": [
  {
   "cell_type": "markdown",
   "metadata": {},
   "source": [
    "## Import bibliotecas"
   ]
  },
  {
   "cell_type": "code",
   "execution_count": 500,
   "metadata": {
    "ExecuteTime": {
     "end_time": "2020-10-08T06:35:42.876127Z",
     "start_time": "2020-10-08T06:35:42.867977Z"
    }
   },
   "outputs": [],
   "source": [
    "import pandas as pd\n",
    "import numpy as np\n",
    "import matplotlib.pyplot as plt\n",
    "import seaborn as sns\n",
    "%matplotlib inline"
   ]
  },
  {
   "cell_type": "markdown",
   "metadata": {},
   "source": [
    "## Abrir arquivo csv"
   ]
  },
  {
   "cell_type": "code",
   "execution_count": 501,
   "metadata": {
    "ExecuteTime": {
     "end_time": "2020-10-08T06:35:43.691306Z",
     "start_time": "2020-10-08T06:35:42.878769Z"
    }
   },
   "outputs": [],
   "source": [
    "data_alunos = pd.read_csv('rank_alunos_6_oct_2020.csv')"
   ]
  },
  {
   "cell_type": "code",
   "execution_count": 502,
   "metadata": {
    "ExecuteTime": {
     "end_time": "2020-10-08T06:35:43.722233Z",
     "start_time": "2020-10-08T06:35:43.693965Z"
    }
   },
   "outputs": [
    {
     "data": {
      "text/html": [
       "<div>\n",
       "<style scoped>\n",
       "    .dataframe tbody tr th:only-of-type {\n",
       "        vertical-align: middle;\n",
       "    }\n",
       "\n",
       "    .dataframe tbody tr th {\n",
       "        vertical-align: top;\n",
       "    }\n",
       "\n",
       "    .dataframe thead th {\n",
       "        text-align: right;\n",
       "    }\n",
       "</style>\n",
       "<table border=\"1\" class=\"dataframe\">\n",
       "  <thead>\n",
       "    <tr style=\"text-align: right;\">\n",
       "      <th></th>\n",
       "      <th>pontos</th>\n",
       "      <th>nome_aluno</th>\n",
       "      <th>faculdade_sigla</th>\n",
       "      <th>pais</th>\n",
       "      <th>perfil</th>\n",
       "      <th>status</th>\n",
       "    </tr>\n",
       "  </thead>\n",
       "  <tbody>\n",
       "    <tr>\n",
       "      <th>0</th>\n",
       "      <td>4162.52</td>\n",
       "      <td>Gustavo Bezerra Ribeiro</td>\n",
       "      <td>UFCG</td>\n",
       "      <td>br</td>\n",
       "      <td>/judge/en/profile/13809</td>\n",
       "      <td>alive no</td>\n",
       "    </tr>\n",
       "    <tr>\n",
       "      <th>1</th>\n",
       "      <td>4162.20</td>\n",
       "      <td>Jefe</td>\n",
       "      <td>UNOESC</td>\n",
       "      <td>br</td>\n",
       "      <td>/judge/en/profile/174</td>\n",
       "      <td>alive yes</td>\n",
       "    </tr>\n",
       "    <tr>\n",
       "      <th>2</th>\n",
       "      <td>4149.62</td>\n",
       "      <td>Lucas Bucior</td>\n",
       "      <td>URI</td>\n",
       "      <td>br</td>\n",
       "      <td>/judge/en/profile/11226</td>\n",
       "      <td>alive no</td>\n",
       "    </tr>\n",
       "    <tr>\n",
       "      <th>3</th>\n",
       "      <td>4147.84</td>\n",
       "      <td>Adriene Magalhães</td>\n",
       "      <td>INATEL</td>\n",
       "      <td>br</td>\n",
       "      <td>/judge/en/profile/85066</td>\n",
       "      <td>alive no</td>\n",
       "    </tr>\n",
       "    <tr>\n",
       "      <th>4</th>\n",
       "      <td>4145.61</td>\n",
       "      <td>Arif khan</td>\n",
       "      <td>PAU</td>\n",
       "      <td>bd</td>\n",
       "      <td>/judge/en/profile/59304</td>\n",
       "      <td>alive no</td>\n",
       "    </tr>\n",
       "    <tr>\n",
       "      <th>...</th>\n",
       "      <td>...</td>\n",
       "      <td>...</td>\n",
       "      <td>...</td>\n",
       "      <td>...</td>\n",
       "      <td>...</td>\n",
       "      <td>...</td>\n",
       "    </tr>\n",
       "    <tr>\n",
       "      <th>305208</th>\n",
       "      <td>1.00</td>\n",
       "      <td>HEMANTH KUMAR A</td>\n",
       "      <td>-</td>\n",
       "      <td>NaN</td>\n",
       "      <td>/judge/en/profile/464709</td>\n",
       "      <td>alive no</td>\n",
       "    </tr>\n",
       "    <tr>\n",
       "      <th>305209</th>\n",
       "      <td>1.00</td>\n",
       "      <td>Mohamed</td>\n",
       "      <td>-</td>\n",
       "      <td>NaN</td>\n",
       "      <td>/judge/en/profile/82370</td>\n",
       "      <td>alive no</td>\n",
       "    </tr>\n",
       "    <tr>\n",
       "      <th>305210</th>\n",
       "      <td>1.00</td>\n",
       "      <td>MatheusMelo</td>\n",
       "      <td>-</td>\n",
       "      <td>NaN</td>\n",
       "      <td>/judge/en/profile/82480</td>\n",
       "      <td>alive no</td>\n",
       "    </tr>\n",
       "    <tr>\n",
       "      <th>305211</th>\n",
       "      <td>1.00</td>\n",
       "      <td>Ricardo</td>\n",
       "      <td>UEM</td>\n",
       "      <td>NaN</td>\n",
       "      <td>/judge/en/profile/82913</td>\n",
       "      <td>alive no</td>\n",
       "    </tr>\n",
       "    <tr>\n",
       "      <th>305212</th>\n",
       "      <td>1.00</td>\n",
       "      <td>Shahidul</td>\n",
       "      <td>-</td>\n",
       "      <td>NaN</td>\n",
       "      <td>/judge/en/profile/82970</td>\n",
       "      <td>alive no</td>\n",
       "    </tr>\n",
       "  </tbody>\n",
       "</table>\n",
       "<p>305213 rows × 6 columns</p>\n",
       "</div>"
      ],
      "text/plain": [
       "         pontos               nome_aluno faculdade_sigla pais  \\\n",
       "0       4162.52  Gustavo Bezerra Ribeiro            UFCG   br   \n",
       "1       4162.20                     Jefe          UNOESC   br   \n",
       "2       4149.62             Lucas Bucior             URI   br   \n",
       "3       4147.84        Adriene Magalhães          INATEL   br   \n",
       "4       4145.61                Arif khan             PAU   bd   \n",
       "...         ...                      ...             ...  ...   \n",
       "305208     1.00          HEMANTH KUMAR A               -  NaN   \n",
       "305209     1.00                  Mohamed               -  NaN   \n",
       "305210     1.00              MatheusMelo               -  NaN   \n",
       "305211     1.00                  Ricardo             UEM  NaN   \n",
       "305212     1.00                 Shahidul               -  NaN   \n",
       "\n",
       "                          perfil     status  \n",
       "0        /judge/en/profile/13809   alive no  \n",
       "1          /judge/en/profile/174  alive yes  \n",
       "2        /judge/en/profile/11226   alive no  \n",
       "3        /judge/en/profile/85066   alive no  \n",
       "4        /judge/en/profile/59304   alive no  \n",
       "...                          ...        ...  \n",
       "305208  /judge/en/profile/464709   alive no  \n",
       "305209   /judge/en/profile/82370   alive no  \n",
       "305210   /judge/en/profile/82480   alive no  \n",
       "305211   /judge/en/profile/82913   alive no  \n",
       "305212   /judge/en/profile/82970   alive no  \n",
       "\n",
       "[305213 rows x 6 columns]"
      ]
     },
     "execution_count": 502,
     "metadata": {},
     "output_type": "execute_result"
    }
   ],
   "source": [
    "data_alunos"
   ]
  },
  {
   "cell_type": "markdown",
   "metadata": {
    "ExecuteTime": {
     "end_time": "2020-10-07T03:16:25.983780Z",
     "start_time": "2020-10-07T03:16:25.979794Z"
    }
   },
   "source": [
    "## Visualizar tamanho da amostra"
   ]
  },
  {
   "cell_type": "code",
   "execution_count": 503,
   "metadata": {
    "ExecuteTime": {
     "end_time": "2020-10-08T06:35:43.827299Z",
     "start_time": "2020-10-08T06:35:43.724703Z"
    }
   },
   "outputs": [
    {
     "data": {
      "text/plain": [
       "305206"
      ]
     },
     "execution_count": 503,
     "metadata": {},
     "output_type": "execute_result"
    }
   ],
   "source": [
    "len(data_alunos['perfil'].unique())"
   ]
  },
  {
   "cell_type": "markdown",
   "metadata": {},
   "source": [
    "## Perfis únicos, remover provaveis duplicatas"
   ]
  },
  {
   "cell_type": "code",
   "execution_count": 504,
   "metadata": {
    "ExecuteTime": {
     "end_time": "2020-10-08T06:35:44.011538Z",
     "start_time": "2020-10-08T06:35:43.829044Z"
    }
   },
   "outputs": [],
   "source": [
    "data_alunos.drop_duplicates(subset='perfil', inplace=True)"
   ]
  },
  {
   "cell_type": "code",
   "execution_count": 505,
   "metadata": {
    "ExecuteTime": {
     "end_time": "2020-10-08T06:35:44.119534Z",
     "start_time": "2020-10-08T06:35:44.014776Z"
    }
   },
   "outputs": [
    {
     "name": "stdout",
     "output_type": "stream",
     "text": [
      "<class 'pandas.core.frame.DataFrame'>\n",
      "Int64Index: 305206 entries, 0 to 305212\n",
      "Data columns (total 6 columns):\n",
      " #   Column           Non-Null Count   Dtype  \n",
      "---  ------           --------------   -----  \n",
      " 0   pontos           305206 non-null  float64\n",
      " 1   nome_aluno       305201 non-null  object \n",
      " 2   faculdade_sigla  305206 non-null  object \n",
      " 3   pais             165451 non-null  object \n",
      " 4   perfil           305206 non-null  object \n",
      " 5   status           305206 non-null  object \n",
      "dtypes: float64(1), object(5)\n",
      "memory usage: 16.3+ MB\n"
     ]
    }
   ],
   "source": [
    "data_alunos.info()"
   ]
  },
  {
   "cell_type": "code",
   "execution_count": 506,
   "metadata": {
    "ExecuteTime": {
     "end_time": "2020-10-08T06:35:44.220223Z",
     "start_time": "2020-10-08T06:35:44.122114Z"
    }
   },
   "outputs": [
    {
     "data": {
      "text/plain": [
       "pontos                  0\n",
       "nome_aluno              5\n",
       "faculdade_sigla         0\n",
       "pais               139755\n",
       "perfil                  0\n",
       "status                  0\n",
       "dtype: int64"
      ]
     },
     "execution_count": 506,
     "metadata": {},
     "output_type": "execute_result"
    }
   ],
   "source": [
    "(data_alunos.isnull()).sum()"
   ]
  },
  {
   "cell_type": "markdown",
   "metadata": {},
   "source": [
    "## Renomear status, 1 = Ativo 0 = inativo"
   ]
  },
  {
   "cell_type": "code",
   "execution_count": 507,
   "metadata": {
    "ExecuteTime": {
     "end_time": "2020-10-08T06:35:44.261093Z",
     "start_time": "2020-10-08T06:35:44.227386Z"
    }
   },
   "outputs": [
    {
     "data": {
      "text/plain": [
       "array(['alive no', 'alive yes'], dtype=object)"
      ]
     },
     "execution_count": 507,
     "metadata": {},
     "output_type": "execute_result"
    }
   ],
   "source": [
    "(data_alunos['status']).unique()"
   ]
  },
  {
   "cell_type": "code",
   "execution_count": 508,
   "metadata": {
    "ExecuteTime": {
     "end_time": "2020-10-08T06:35:44.267965Z",
     "start_time": "2020-10-08T06:35:44.264483Z"
    }
   },
   "outputs": [],
   "source": [
    "status_aluno_dict = {\n",
    "    'alive yes': 1,\n",
    "    'alive no' : 0\n",
    "}"
   ]
  },
  {
   "cell_type": "code",
   "execution_count": 509,
   "metadata": {
    "ExecuteTime": {
     "end_time": "2020-10-08T06:35:44.350954Z",
     "start_time": "2020-10-08T06:35:44.270446Z"
    }
   },
   "outputs": [],
   "source": [
    "data_alunos['status'] = data_alunos['status'].map(status_aluno_dict)"
   ]
  },
  {
   "cell_type": "code",
   "execution_count": 510,
   "metadata": {
    "ExecuteTime": {
     "end_time": "2020-10-08T06:35:44.372168Z",
     "start_time": "2020-10-08T06:35:44.354795Z"
    }
   },
   "outputs": [
    {
     "data": {
      "text/html": [
       "<div>\n",
       "<style scoped>\n",
       "    .dataframe tbody tr th:only-of-type {\n",
       "        vertical-align: middle;\n",
       "    }\n",
       "\n",
       "    .dataframe tbody tr th {\n",
       "        vertical-align: top;\n",
       "    }\n",
       "\n",
       "    .dataframe thead th {\n",
       "        text-align: right;\n",
       "    }\n",
       "</style>\n",
       "<table border=\"1\" class=\"dataframe\">\n",
       "  <thead>\n",
       "    <tr style=\"text-align: right;\">\n",
       "      <th></th>\n",
       "      <th>pontos</th>\n",
       "      <th>nome_aluno</th>\n",
       "      <th>faculdade_sigla</th>\n",
       "      <th>pais</th>\n",
       "      <th>perfil</th>\n",
       "      <th>status</th>\n",
       "    </tr>\n",
       "  </thead>\n",
       "  <tbody>\n",
       "    <tr>\n",
       "      <th>0</th>\n",
       "      <td>4162.52</td>\n",
       "      <td>Gustavo Bezerra Ribeiro</td>\n",
       "      <td>UFCG</td>\n",
       "      <td>br</td>\n",
       "      <td>/judge/en/profile/13809</td>\n",
       "      <td>0</td>\n",
       "    </tr>\n",
       "    <tr>\n",
       "      <th>1</th>\n",
       "      <td>4162.20</td>\n",
       "      <td>Jefe</td>\n",
       "      <td>UNOESC</td>\n",
       "      <td>br</td>\n",
       "      <td>/judge/en/profile/174</td>\n",
       "      <td>1</td>\n",
       "    </tr>\n",
       "    <tr>\n",
       "      <th>2</th>\n",
       "      <td>4149.62</td>\n",
       "      <td>Lucas Bucior</td>\n",
       "      <td>URI</td>\n",
       "      <td>br</td>\n",
       "      <td>/judge/en/profile/11226</td>\n",
       "      <td>0</td>\n",
       "    </tr>\n",
       "    <tr>\n",
       "      <th>3</th>\n",
       "      <td>4147.84</td>\n",
       "      <td>Adriene Magalhães</td>\n",
       "      <td>INATEL</td>\n",
       "      <td>br</td>\n",
       "      <td>/judge/en/profile/85066</td>\n",
       "      <td>0</td>\n",
       "    </tr>\n",
       "    <tr>\n",
       "      <th>4</th>\n",
       "      <td>4145.61</td>\n",
       "      <td>Arif khan</td>\n",
       "      <td>PAU</td>\n",
       "      <td>bd</td>\n",
       "      <td>/judge/en/profile/59304</td>\n",
       "      <td>0</td>\n",
       "    </tr>\n",
       "    <tr>\n",
       "      <th>5</th>\n",
       "      <td>4131.19</td>\n",
       "      <td>flaviano</td>\n",
       "      <td>FATEC-OU</td>\n",
       "      <td>br</td>\n",
       "      <td>/judge/en/profile/149514</td>\n",
       "      <td>0</td>\n",
       "    </tr>\n",
       "    <tr>\n",
       "      <th>6</th>\n",
       "      <td>4115.51</td>\n",
       "      <td>Lucas Amaral Damaso</td>\n",
       "      <td>UFU</td>\n",
       "      <td>br</td>\n",
       "      <td>/judge/en/profile/3839</td>\n",
       "      <td>0</td>\n",
       "    </tr>\n",
       "    <tr>\n",
       "      <th>7</th>\n",
       "      <td>4103.93</td>\n",
       "      <td>Fernando Morato</td>\n",
       "      <td>IFS</td>\n",
       "      <td>br</td>\n",
       "      <td>/judge/en/profile/223600</td>\n",
       "      <td>1</td>\n",
       "    </tr>\n",
       "    <tr>\n",
       "      <th>8</th>\n",
       "      <td>4087.29</td>\n",
       "      <td>Raphael</td>\n",
       "      <td>FTT</td>\n",
       "      <td>br</td>\n",
       "      <td>/judge/en/profile/274549</td>\n",
       "      <td>1</td>\n",
       "    </tr>\n",
       "    <tr>\n",
       "      <th>9</th>\n",
       "      <td>4077.09</td>\n",
       "      <td>Pedro Leocir</td>\n",
       "      <td>IFRS</td>\n",
       "      <td>br</td>\n",
       "      <td>/judge/en/profile/188532</td>\n",
       "      <td>1</td>\n",
       "    </tr>\n",
       "  </tbody>\n",
       "</table>\n",
       "</div>"
      ],
      "text/plain": [
       "    pontos               nome_aluno faculdade_sigla pais  \\\n",
       "0  4162.52  Gustavo Bezerra Ribeiro            UFCG   br   \n",
       "1  4162.20                     Jefe          UNOESC   br   \n",
       "2  4149.62             Lucas Bucior             URI   br   \n",
       "3  4147.84        Adriene Magalhães          INATEL   br   \n",
       "4  4145.61                Arif khan             PAU   bd   \n",
       "5  4131.19                 flaviano        FATEC-OU   br   \n",
       "6  4115.51      Lucas Amaral Damaso             UFU   br   \n",
       "7  4103.93          Fernando Morato             IFS   br   \n",
       "8  4087.29                  Raphael             FTT   br   \n",
       "9  4077.09             Pedro Leocir            IFRS   br   \n",
       "\n",
       "                     perfil  status  \n",
       "0   /judge/en/profile/13809       0  \n",
       "1     /judge/en/profile/174       1  \n",
       "2   /judge/en/profile/11226       0  \n",
       "3   /judge/en/profile/85066       0  \n",
       "4   /judge/en/profile/59304       0  \n",
       "5  /judge/en/profile/149514       0  \n",
       "6    /judge/en/profile/3839       0  \n",
       "7  /judge/en/profile/223600       1  \n",
       "8  /judge/en/profile/274549       1  \n",
       "9  /judge/en/profile/188532       1  "
      ]
     },
     "execution_count": 510,
     "metadata": {},
     "output_type": "execute_result"
    }
   ],
   "source": [
    "data_alunos.head(10)"
   ]
  },
  {
   "cell_type": "markdown",
   "metadata": {},
   "source": [
    "## Trocar '-' em 'faculdade_sigla' por 'Sem faculdade'"
   ]
  },
  {
   "cell_type": "code",
   "execution_count": 511,
   "metadata": {
    "ExecuteTime": {
     "end_time": "2020-10-08T06:35:44.461814Z",
     "start_time": "2020-10-08T06:35:44.375272Z"
    }
   },
   "outputs": [
    {
     "name": "stderr",
     "output_type": "stream",
     "text": [
      "/home/lhtest/SHOME/.virtualenvs/scrapy_uri/lib/python3.7/site-packages/pandas/core/indexing.py:670: SettingWithCopyWarning: \n",
      "A value is trying to be set on a copy of a slice from a DataFrame\n",
      "\n",
      "See the caveats in the documentation: https://pandas.pydata.org/pandas-docs/stable/user_guide/indexing.html#returning-a-view-versus-a-copy\n",
      "  iloc._setitem_with_indexer(indexer, value)\n"
     ]
    }
   ],
   "source": [
    "data_alunos['faculdade_sigla'].loc[data_alunos['faculdade_sigla'] == '-'] = \\\n",
    "data_alunos['faculdade_sigla'].loc[data_alunos['faculdade_sigla'] == '-'].map({'-': 'Sem Faculdade'})"
   ]
  },
  {
   "cell_type": "code",
   "execution_count": 512,
   "metadata": {
    "ExecuteTime": {
     "end_time": "2020-10-08T06:35:44.472851Z",
     "start_time": "2020-10-08T06:35:44.464702Z"
    }
   },
   "outputs": [
    {
     "data": {
      "text/plain": [
       "0                  UFCG\n",
       "1                UNOESC\n",
       "2                   URI\n",
       "3                INATEL\n",
       "4                   PAU\n",
       "              ...      \n",
       "305208    Sem Faculdade\n",
       "305209    Sem Faculdade\n",
       "305210    Sem Faculdade\n",
       "305211              UEM\n",
       "305212    Sem Faculdade\n",
       "Name: faculdade_sigla, Length: 305206, dtype: object"
      ]
     },
     "execution_count": 512,
     "metadata": {},
     "output_type": "execute_result"
    }
   ],
   "source": [
    "data_alunos['faculdade_sigla']"
   ]
  },
  {
   "cell_type": "code",
   "execution_count": 513,
   "metadata": {
    "ExecuteTime": {
     "end_time": "2020-10-08T06:35:44.489732Z",
     "start_time": "2020-10-08T06:35:44.474638Z"
    }
   },
   "outputs": [
    {
     "data": {
      "text/html": [
       "<div>\n",
       "<style scoped>\n",
       "    .dataframe tbody tr th:only-of-type {\n",
       "        vertical-align: middle;\n",
       "    }\n",
       "\n",
       "    .dataframe tbody tr th {\n",
       "        vertical-align: top;\n",
       "    }\n",
       "\n",
       "    .dataframe thead th {\n",
       "        text-align: right;\n",
       "    }\n",
       "</style>\n",
       "<table border=\"1\" class=\"dataframe\">\n",
       "  <thead>\n",
       "    <tr style=\"text-align: right;\">\n",
       "      <th></th>\n",
       "      <th>pontos</th>\n",
       "      <th>nome_aluno</th>\n",
       "      <th>faculdade_sigla</th>\n",
       "      <th>pais</th>\n",
       "      <th>perfil</th>\n",
       "      <th>status</th>\n",
       "    </tr>\n",
       "  </thead>\n",
       "  <tbody>\n",
       "    <tr>\n",
       "      <th>0</th>\n",
       "      <td>4162.52</td>\n",
       "      <td>Gustavo Bezerra Ribeiro</td>\n",
       "      <td>UFCG</td>\n",
       "      <td>br</td>\n",
       "      <td>/judge/en/profile/13809</td>\n",
       "      <td>0</td>\n",
       "    </tr>\n",
       "    <tr>\n",
       "      <th>1</th>\n",
       "      <td>4162.20</td>\n",
       "      <td>Jefe</td>\n",
       "      <td>UNOESC</td>\n",
       "      <td>br</td>\n",
       "      <td>/judge/en/profile/174</td>\n",
       "      <td>1</td>\n",
       "    </tr>\n",
       "    <tr>\n",
       "      <th>2</th>\n",
       "      <td>4149.62</td>\n",
       "      <td>Lucas Bucior</td>\n",
       "      <td>URI</td>\n",
       "      <td>br</td>\n",
       "      <td>/judge/en/profile/11226</td>\n",
       "      <td>0</td>\n",
       "    </tr>\n",
       "    <tr>\n",
       "      <th>3</th>\n",
       "      <td>4147.84</td>\n",
       "      <td>Adriene Magalhães</td>\n",
       "      <td>INATEL</td>\n",
       "      <td>br</td>\n",
       "      <td>/judge/en/profile/85066</td>\n",
       "      <td>0</td>\n",
       "    </tr>\n",
       "    <tr>\n",
       "      <th>4</th>\n",
       "      <td>4145.61</td>\n",
       "      <td>Arif khan</td>\n",
       "      <td>PAU</td>\n",
       "      <td>bd</td>\n",
       "      <td>/judge/en/profile/59304</td>\n",
       "      <td>0</td>\n",
       "    </tr>\n",
       "  </tbody>\n",
       "</table>\n",
       "</div>"
      ],
      "text/plain": [
       "    pontos               nome_aluno faculdade_sigla pais  \\\n",
       "0  4162.52  Gustavo Bezerra Ribeiro            UFCG   br   \n",
       "1  4162.20                     Jefe          UNOESC   br   \n",
       "2  4149.62             Lucas Bucior             URI   br   \n",
       "3  4147.84        Adriene Magalhães          INATEL   br   \n",
       "4  4145.61                Arif khan             PAU   bd   \n",
       "\n",
       "                    perfil  status  \n",
       "0  /judge/en/profile/13809       0  \n",
       "1    /judge/en/profile/174       1  \n",
       "2  /judge/en/profile/11226       0  \n",
       "3  /judge/en/profile/85066       0  \n",
       "4  /judge/en/profile/59304       0  "
      ]
     },
     "execution_count": 513,
     "metadata": {},
     "output_type": "execute_result"
    }
   ],
   "source": [
    "data_alunos.head()"
   ]
  },
  {
   "cell_type": "markdown",
   "metadata": {},
   "source": [
    "## Abrir arquivo contendo data de cadastro dos alunos"
   ]
  },
  {
   "cell_type": "code",
   "execution_count": 514,
   "metadata": {
    "ExecuteTime": {
     "end_time": "2020-10-08T06:35:44.914221Z",
     "start_time": "2020-10-08T06:35:44.491707Z"
    }
   },
   "outputs": [],
   "source": [
    "data_alunos_date = pd.read_csv('data_cadastro_6_oct_2020.csv')"
   ]
  },
  {
   "cell_type": "code",
   "execution_count": 515,
   "metadata": {
    "ExecuteTime": {
     "end_time": "2020-10-08T06:35:44.929988Z",
     "start_time": "2020-10-08T06:35:44.916384Z"
    }
   },
   "outputs": [
    {
     "data": {
      "text/html": [
       "<div>\n",
       "<style scoped>\n",
       "    .dataframe tbody tr th:only-of-type {\n",
       "        vertical-align: middle;\n",
       "    }\n",
       "\n",
       "    .dataframe tbody tr th {\n",
       "        vertical-align: top;\n",
       "    }\n",
       "\n",
       "    .dataframe thead th {\n",
       "        text-align: right;\n",
       "    }\n",
       "</style>\n",
       "<table border=\"1\" class=\"dataframe\">\n",
       "  <thead>\n",
       "    <tr style=\"text-align: right;\">\n",
       "      <th></th>\n",
       "      <th>data</th>\n",
       "      <th>link</th>\n",
       "    </tr>\n",
       "  </thead>\n",
       "  <tbody>\n",
       "    <tr>\n",
       "      <th>0</th>\n",
       "      <td>4/19/13</td>\n",
       "      <td>/judge/en/profile/3839</td>\n",
       "    </tr>\n",
       "    <tr>\n",
       "      <th>1</th>\n",
       "      <td>2/20/17</td>\n",
       "      <td>/judge/en/profile/149514</td>\n",
       "    </tr>\n",
       "    <tr>\n",
       "      <th>2</th>\n",
       "      <td>3/30/12</td>\n",
       "      <td>/judge/en/profile/174</td>\n",
       "    </tr>\n",
       "    <tr>\n",
       "      <th>3</th>\n",
       "      <td>2/3/18</td>\n",
       "      <td>/judge/en/profile/223600</td>\n",
       "    </tr>\n",
       "    <tr>\n",
       "      <th>4</th>\n",
       "      <td>11/28/13</td>\n",
       "      <td>/judge/en/profile/11226</td>\n",
       "    </tr>\n",
       "    <tr>\n",
       "      <th>5</th>\n",
       "      <td>2/13/14</td>\n",
       "      <td>/judge/en/profile/13809</td>\n",
       "    </tr>\n",
       "  </tbody>\n",
       "</table>\n",
       "</div>"
      ],
      "text/plain": [
       "       data                      link\n",
       "0   4/19/13    /judge/en/profile/3839\n",
       "1   2/20/17  /judge/en/profile/149514\n",
       "2   3/30/12     /judge/en/profile/174\n",
       "3    2/3/18  /judge/en/profile/223600\n",
       "4  11/28/13   /judge/en/profile/11226\n",
       "5   2/13/14   /judge/en/profile/13809"
      ]
     },
     "execution_count": 515,
     "metadata": {},
     "output_type": "execute_result"
    }
   ],
   "source": [
    "data_alunos_date.head(6)"
   ]
  },
  {
   "cell_type": "markdown",
   "metadata": {},
   "source": [
    "## Criando atributo 'data cadastro' na tabela principal para receber as datas da tabela 'data_alunos_date'\n"
   ]
  },
  {
   "cell_type": "code",
   "execution_count": 516,
   "metadata": {
    "ExecuteTime": {
     "end_time": "2020-10-08T06:35:44.937332Z",
     "start_time": "2020-10-08T06:35:44.932487Z"
    }
   },
   "outputs": [],
   "source": [
    "data_alunos['data cadastro'] = np.nan"
   ]
  },
  {
   "cell_type": "code",
   "execution_count": 517,
   "metadata": {
    "ExecuteTime": {
     "end_time": "2020-10-08T06:35:44.972782Z",
     "start_time": "2020-10-08T06:35:44.939866Z"
    }
   },
   "outputs": [],
   "source": [
    "data_alunos['data cadastro'] = data_alunos['data cadastro'].astype(object)"
   ]
  },
  {
   "cell_type": "code",
   "execution_count": 518,
   "metadata": {
    "ExecuteTime": {
     "end_time": "2020-10-08T06:35:44.998918Z",
     "start_time": "2020-10-08T06:35:44.974734Z"
    }
   },
   "outputs": [
    {
     "data": {
      "text/html": [
       "<div>\n",
       "<style scoped>\n",
       "    .dataframe tbody tr th:only-of-type {\n",
       "        vertical-align: middle;\n",
       "    }\n",
       "\n",
       "    .dataframe tbody tr th {\n",
       "        vertical-align: top;\n",
       "    }\n",
       "\n",
       "    .dataframe thead th {\n",
       "        text-align: right;\n",
       "    }\n",
       "</style>\n",
       "<table border=\"1\" class=\"dataframe\">\n",
       "  <thead>\n",
       "    <tr style=\"text-align: right;\">\n",
       "      <th></th>\n",
       "      <th>pontos</th>\n",
       "      <th>nome_aluno</th>\n",
       "      <th>faculdade_sigla</th>\n",
       "      <th>pais</th>\n",
       "      <th>perfil</th>\n",
       "      <th>status</th>\n",
       "      <th>data cadastro</th>\n",
       "    </tr>\n",
       "  </thead>\n",
       "  <tbody>\n",
       "    <tr>\n",
       "      <th>0</th>\n",
       "      <td>4162.52</td>\n",
       "      <td>Gustavo Bezerra Ribeiro</td>\n",
       "      <td>UFCG</td>\n",
       "      <td>br</td>\n",
       "      <td>/judge/en/profile/13809</td>\n",
       "      <td>0</td>\n",
       "      <td>NaN</td>\n",
       "    </tr>\n",
       "    <tr>\n",
       "      <th>1</th>\n",
       "      <td>4162.20</td>\n",
       "      <td>Jefe</td>\n",
       "      <td>UNOESC</td>\n",
       "      <td>br</td>\n",
       "      <td>/judge/en/profile/174</td>\n",
       "      <td>1</td>\n",
       "      <td>NaN</td>\n",
       "    </tr>\n",
       "    <tr>\n",
       "      <th>2</th>\n",
       "      <td>4149.62</td>\n",
       "      <td>Lucas Bucior</td>\n",
       "      <td>URI</td>\n",
       "      <td>br</td>\n",
       "      <td>/judge/en/profile/11226</td>\n",
       "      <td>0</td>\n",
       "      <td>NaN</td>\n",
       "    </tr>\n",
       "    <tr>\n",
       "      <th>3</th>\n",
       "      <td>4147.84</td>\n",
       "      <td>Adriene Magalhães</td>\n",
       "      <td>INATEL</td>\n",
       "      <td>br</td>\n",
       "      <td>/judge/en/profile/85066</td>\n",
       "      <td>0</td>\n",
       "      <td>NaN</td>\n",
       "    </tr>\n",
       "    <tr>\n",
       "      <th>4</th>\n",
       "      <td>4145.61</td>\n",
       "      <td>Arif khan</td>\n",
       "      <td>PAU</td>\n",
       "      <td>bd</td>\n",
       "      <td>/judge/en/profile/59304</td>\n",
       "      <td>0</td>\n",
       "      <td>NaN</td>\n",
       "    </tr>\n",
       "  </tbody>\n",
       "</table>\n",
       "</div>"
      ],
      "text/plain": [
       "    pontos               nome_aluno faculdade_sigla pais  \\\n",
       "0  4162.52  Gustavo Bezerra Ribeiro            UFCG   br   \n",
       "1  4162.20                     Jefe          UNOESC   br   \n",
       "2  4149.62             Lucas Bucior             URI   br   \n",
       "3  4147.84        Adriene Magalhães          INATEL   br   \n",
       "4  4145.61                Arif khan             PAU   bd   \n",
       "\n",
       "                    perfil  status data cadastro  \n",
       "0  /judge/en/profile/13809       0           NaN  \n",
       "1    /judge/en/profile/174       1           NaN  \n",
       "2  /judge/en/profile/11226       0           NaN  \n",
       "3  /judge/en/profile/85066       0           NaN  \n",
       "4  /judge/en/profile/59304       0           NaN  "
      ]
     },
     "execution_count": 518,
     "metadata": {},
     "output_type": "execute_result"
    }
   ],
   "source": [
    "data_alunos.head()"
   ]
  },
  {
   "cell_type": "code",
   "execution_count": 519,
   "metadata": {
    "ExecuteTime": {
     "end_time": "2020-10-08T06:35:45.164107Z",
     "start_time": "2020-10-08T06:35:45.003099Z"
    }
   },
   "outputs": [
    {
     "name": "stdout",
     "output_type": "stream",
     "text": [
      "<class 'pandas.core.frame.DataFrame'>\n",
      "Int64Index: 305206 entries, 0 to 305212\n",
      "Data columns (total 7 columns):\n",
      " #   Column           Non-Null Count   Dtype  \n",
      "---  ------           --------------   -----  \n",
      " 0   pontos           305206 non-null  float64\n",
      " 1   nome_aluno       305201 non-null  object \n",
      " 2   faculdade_sigla  305206 non-null  object \n",
      " 3   pais             165451 non-null  object \n",
      " 4   perfil           305206 non-null  object \n",
      " 5   status           305206 non-null  int64  \n",
      " 6   data cadastro    0 non-null       object \n",
      "dtypes: float64(1), int64(1), object(5)\n",
      "memory usage: 18.6+ MB\n"
     ]
    }
   ],
   "source": [
    "data_alunos.info()"
   ]
  },
  {
   "cell_type": "markdown",
   "metadata": {},
   "source": [
    "## Usar link do perfil(valor único) como uma PK/FK"
   ]
  },
  {
   "cell_type": "code",
   "execution_count": 520,
   "metadata": {
    "ExecuteTime": {
     "end_time": "2020-10-08T06:35:45.197660Z",
     "start_time": "2020-10-08T06:35:45.166699Z"
    }
   },
   "outputs": [],
   "source": [
    "data_alunos.set_index('perfil', inplace=True)"
   ]
  },
  {
   "cell_type": "code",
   "execution_count": 521,
   "metadata": {
    "ExecuteTime": {
     "end_time": "2020-10-08T06:35:45.218278Z",
     "start_time": "2020-10-08T06:35:45.199901Z"
    }
   },
   "outputs": [
    {
     "data": {
      "text/html": [
       "<div>\n",
       "<style scoped>\n",
       "    .dataframe tbody tr th:only-of-type {\n",
       "        vertical-align: middle;\n",
       "    }\n",
       "\n",
       "    .dataframe tbody tr th {\n",
       "        vertical-align: top;\n",
       "    }\n",
       "\n",
       "    .dataframe thead th {\n",
       "        text-align: right;\n",
       "    }\n",
       "</style>\n",
       "<table border=\"1\" class=\"dataframe\">\n",
       "  <thead>\n",
       "    <tr style=\"text-align: right;\">\n",
       "      <th></th>\n",
       "      <th>pontos</th>\n",
       "      <th>nome_aluno</th>\n",
       "      <th>faculdade_sigla</th>\n",
       "      <th>pais</th>\n",
       "      <th>status</th>\n",
       "      <th>data cadastro</th>\n",
       "    </tr>\n",
       "    <tr>\n",
       "      <th>perfil</th>\n",
       "      <th></th>\n",
       "      <th></th>\n",
       "      <th></th>\n",
       "      <th></th>\n",
       "      <th></th>\n",
       "      <th></th>\n",
       "    </tr>\n",
       "  </thead>\n",
       "  <tbody>\n",
       "    <tr>\n",
       "      <th>/judge/en/profile/13809</th>\n",
       "      <td>4162.52</td>\n",
       "      <td>Gustavo Bezerra Ribeiro</td>\n",
       "      <td>UFCG</td>\n",
       "      <td>br</td>\n",
       "      <td>0</td>\n",
       "      <td>NaN</td>\n",
       "    </tr>\n",
       "    <tr>\n",
       "      <th>/judge/en/profile/174</th>\n",
       "      <td>4162.20</td>\n",
       "      <td>Jefe</td>\n",
       "      <td>UNOESC</td>\n",
       "      <td>br</td>\n",
       "      <td>1</td>\n",
       "      <td>NaN</td>\n",
       "    </tr>\n",
       "    <tr>\n",
       "      <th>/judge/en/profile/11226</th>\n",
       "      <td>4149.62</td>\n",
       "      <td>Lucas Bucior</td>\n",
       "      <td>URI</td>\n",
       "      <td>br</td>\n",
       "      <td>0</td>\n",
       "      <td>NaN</td>\n",
       "    </tr>\n",
       "    <tr>\n",
       "      <th>/judge/en/profile/85066</th>\n",
       "      <td>4147.84</td>\n",
       "      <td>Adriene Magalhães</td>\n",
       "      <td>INATEL</td>\n",
       "      <td>br</td>\n",
       "      <td>0</td>\n",
       "      <td>NaN</td>\n",
       "    </tr>\n",
       "    <tr>\n",
       "      <th>/judge/en/profile/59304</th>\n",
       "      <td>4145.61</td>\n",
       "      <td>Arif khan</td>\n",
       "      <td>PAU</td>\n",
       "      <td>bd</td>\n",
       "      <td>0</td>\n",
       "      <td>NaN</td>\n",
       "    </tr>\n",
       "  </tbody>\n",
       "</table>\n",
       "</div>"
      ],
      "text/plain": [
       "                          pontos               nome_aluno faculdade_sigla  \\\n",
       "perfil                                                                      \n",
       "/judge/en/profile/13809  4162.52  Gustavo Bezerra Ribeiro            UFCG   \n",
       "/judge/en/profile/174    4162.20                     Jefe          UNOESC   \n",
       "/judge/en/profile/11226  4149.62             Lucas Bucior             URI   \n",
       "/judge/en/profile/85066  4147.84        Adriene Magalhães          INATEL   \n",
       "/judge/en/profile/59304  4145.61                Arif khan             PAU   \n",
       "\n",
       "                        pais  status data cadastro  \n",
       "perfil                                              \n",
       "/judge/en/profile/13809   br       0           NaN  \n",
       "/judge/en/profile/174     br       1           NaN  \n",
       "/judge/en/profile/11226   br       0           NaN  \n",
       "/judge/en/profile/85066   br       0           NaN  \n",
       "/judge/en/profile/59304   bd       0           NaN  "
      ]
     },
     "execution_count": 521,
     "metadata": {},
     "output_type": "execute_result"
    }
   ],
   "source": [
    "data_alunos.head()"
   ]
  },
  {
   "cell_type": "code",
   "execution_count": 522,
   "metadata": {
    "ExecuteTime": {
     "end_time": "2020-10-08T06:35:55.924414Z",
     "start_time": "2020-10-08T06:35:45.225224Z"
    }
   },
   "outputs": [],
   "source": [
    "index_count = 0\n",
    "for data_do_cadastro in data_alunos_date['link']:\n",
    "    data_alunos.at[data_do_cadastro, 'data cadastro'] = data_alunos_date['data'][index_count]\n",
    "    index_count +=1"
   ]
  },
  {
   "cell_type": "code",
   "execution_count": 523,
   "metadata": {
    "ExecuteTime": {
     "end_time": "2020-10-08T06:35:55.946817Z",
     "start_time": "2020-10-08T06:35:55.928219Z"
    }
   },
   "outputs": [
    {
     "data": {
      "text/html": [
       "<div>\n",
       "<style scoped>\n",
       "    .dataframe tbody tr th:only-of-type {\n",
       "        vertical-align: middle;\n",
       "    }\n",
       "\n",
       "    .dataframe tbody tr th {\n",
       "        vertical-align: top;\n",
       "    }\n",
       "\n",
       "    .dataframe thead th {\n",
       "        text-align: right;\n",
       "    }\n",
       "</style>\n",
       "<table border=\"1\" class=\"dataframe\">\n",
       "  <thead>\n",
       "    <tr style=\"text-align: right;\">\n",
       "      <th></th>\n",
       "      <th>pontos</th>\n",
       "      <th>nome_aluno</th>\n",
       "      <th>faculdade_sigla</th>\n",
       "      <th>pais</th>\n",
       "      <th>status</th>\n",
       "      <th>data cadastro</th>\n",
       "    </tr>\n",
       "    <tr>\n",
       "      <th>perfil</th>\n",
       "      <th></th>\n",
       "      <th></th>\n",
       "      <th></th>\n",
       "      <th></th>\n",
       "      <th></th>\n",
       "      <th></th>\n",
       "    </tr>\n",
       "  </thead>\n",
       "  <tbody>\n",
       "    <tr>\n",
       "      <th>/judge/en/profile/13809</th>\n",
       "      <td>4162.52</td>\n",
       "      <td>Gustavo Bezerra Ribeiro</td>\n",
       "      <td>UFCG</td>\n",
       "      <td>br</td>\n",
       "      <td>0</td>\n",
       "      <td>2/13/14</td>\n",
       "    </tr>\n",
       "    <tr>\n",
       "      <th>/judge/en/profile/174</th>\n",
       "      <td>4162.20</td>\n",
       "      <td>Jefe</td>\n",
       "      <td>UNOESC</td>\n",
       "      <td>br</td>\n",
       "      <td>1</td>\n",
       "      <td>3/30/12</td>\n",
       "    </tr>\n",
       "    <tr>\n",
       "      <th>/judge/en/profile/11226</th>\n",
       "      <td>4149.62</td>\n",
       "      <td>Lucas Bucior</td>\n",
       "      <td>URI</td>\n",
       "      <td>br</td>\n",
       "      <td>0</td>\n",
       "      <td>11/28/13</td>\n",
       "    </tr>\n",
       "    <tr>\n",
       "      <th>/judge/en/profile/85066</th>\n",
       "      <td>4147.84</td>\n",
       "      <td>Adriene Magalhães</td>\n",
       "      <td>INATEL</td>\n",
       "      <td>br</td>\n",
       "      <td>0</td>\n",
       "      <td>2/17/16</td>\n",
       "    </tr>\n",
       "    <tr>\n",
       "      <th>/judge/en/profile/59304</th>\n",
       "      <td>4145.61</td>\n",
       "      <td>Arif khan</td>\n",
       "      <td>PAU</td>\n",
       "      <td>bd</td>\n",
       "      <td>0</td>\n",
       "      <td>7/6/15</td>\n",
       "    </tr>\n",
       "  </tbody>\n",
       "</table>\n",
       "</div>"
      ],
      "text/plain": [
       "                          pontos               nome_aluno faculdade_sigla  \\\n",
       "perfil                                                                      \n",
       "/judge/en/profile/13809  4162.52  Gustavo Bezerra Ribeiro            UFCG   \n",
       "/judge/en/profile/174    4162.20                     Jefe          UNOESC   \n",
       "/judge/en/profile/11226  4149.62             Lucas Bucior             URI   \n",
       "/judge/en/profile/85066  4147.84        Adriene Magalhães          INATEL   \n",
       "/judge/en/profile/59304  4145.61                Arif khan             PAU   \n",
       "\n",
       "                        pais  status data cadastro  \n",
       "perfil                                              \n",
       "/judge/en/profile/13809   br       0       2/13/14  \n",
       "/judge/en/profile/174     br       1       3/30/12  \n",
       "/judge/en/profile/11226   br       0      11/28/13  \n",
       "/judge/en/profile/85066   br       0       2/17/16  \n",
       "/judge/en/profile/59304   bd       0        7/6/15  "
      ]
     },
     "execution_count": 523,
     "metadata": {},
     "output_type": "execute_result"
    }
   ],
   "source": [
    "data_alunos.head()"
   ]
  },
  {
   "cell_type": "code",
   "execution_count": 524,
   "metadata": {
    "ExecuteTime": {
     "end_time": "2020-10-08T06:35:56.045596Z",
     "start_time": "2020-10-08T06:35:55.949126Z"
    }
   },
   "outputs": [
    {
     "name": "stdout",
     "output_type": "stream",
     "text": [
      "<class 'pandas.core.frame.DataFrame'>\n",
      "Index: 305206 entries, /judge/en/profile/13809 to /judge/en/profile/82970\n",
      "Data columns (total 6 columns):\n",
      " #   Column           Non-Null Count   Dtype  \n",
      "---  ------           --------------   -----  \n",
      " 0   pontos           305206 non-null  float64\n",
      " 1   nome_aluno       305201 non-null  object \n",
      " 2   faculdade_sigla  305206 non-null  object \n",
      " 3   pais             165451 non-null  object \n",
      " 4   status           305206 non-null  int64  \n",
      " 5   data cadastro    304886 non-null  object \n",
      "dtypes: float64(1), int64(1), object(4)\n",
      "memory usage: 26.3+ MB\n"
     ]
    }
   ],
   "source": [
    "data_alunos.info()"
   ]
  },
  {
   "cell_type": "markdown",
   "metadata": {},
   "source": [
    "## Organizando os dados de acordo com o número de pontos do aluno"
   ]
  },
  {
   "cell_type": "code",
   "execution_count": 525,
   "metadata": {
    "ExecuteTime": {
     "end_time": "2020-10-08T06:35:56.062485Z",
     "start_time": "2020-10-08T06:35:56.048477Z"
    }
   },
   "outputs": [],
   "source": [
    "data_alunos.reset_index(inplace=True)"
   ]
  },
  {
   "cell_type": "code",
   "execution_count": 526,
   "metadata": {
    "ExecuteTime": {
     "end_time": "2020-10-08T06:35:56.288042Z",
     "start_time": "2020-10-08T06:35:56.065531Z"
    }
   },
   "outputs": [],
   "source": [
    "data_alunos = data_alunos.sort_values(by='pontos', ascending=False).reset_index(drop=True)"
   ]
  },
  {
   "cell_type": "code",
   "execution_count": 527,
   "metadata": {
    "ExecuteTime": {
     "end_time": "2020-10-08T06:35:56.318227Z",
     "start_time": "2020-10-08T06:35:56.290427Z"
    }
   },
   "outputs": [
    {
     "data": {
      "text/html": [
       "<div>\n",
       "<style scoped>\n",
       "    .dataframe tbody tr th:only-of-type {\n",
       "        vertical-align: middle;\n",
       "    }\n",
       "\n",
       "    .dataframe tbody tr th {\n",
       "        vertical-align: top;\n",
       "    }\n",
       "\n",
       "    .dataframe thead th {\n",
       "        text-align: right;\n",
       "    }\n",
       "</style>\n",
       "<table border=\"1\" class=\"dataframe\">\n",
       "  <thead>\n",
       "    <tr style=\"text-align: right;\">\n",
       "      <th></th>\n",
       "      <th>perfil</th>\n",
       "      <th>pontos</th>\n",
       "      <th>nome_aluno</th>\n",
       "      <th>faculdade_sigla</th>\n",
       "      <th>pais</th>\n",
       "      <th>status</th>\n",
       "      <th>data cadastro</th>\n",
       "    </tr>\n",
       "  </thead>\n",
       "  <tbody>\n",
       "    <tr>\n",
       "      <th>0</th>\n",
       "      <td>/judge/en/profile/40980</td>\n",
       "      <td>21151.57</td>\n",
       "      <td>Maycon Alves</td>\n",
       "      <td>INATEL</td>\n",
       "      <td>br</td>\n",
       "      <td>1</td>\n",
       "      <td>2/25/15</td>\n",
       "    </tr>\n",
       "    <tr>\n",
       "      <th>1</th>\n",
       "      <td>/judge/en/profile/13607</td>\n",
       "      <td>20527.39</td>\n",
       "      <td>Gabriel Duarte</td>\n",
       "      <td>UFF</td>\n",
       "      <td>br</td>\n",
       "      <td>1</td>\n",
       "      <td>2/10/14</td>\n",
       "    </tr>\n",
       "    <tr>\n",
       "      <th>2</th>\n",
       "      <td>/judge/en/profile/34355</td>\n",
       "      <td>18020.44</td>\n",
       "      <td>Erick Leonardo de Sousa Monteiro</td>\n",
       "      <td>UNICAMP</td>\n",
       "      <td>br</td>\n",
       "      <td>1</td>\n",
       "      <td>11/14/14</td>\n",
       "    </tr>\n",
       "    <tr>\n",
       "      <th>3</th>\n",
       "      <td>/judge/en/profile/175304</td>\n",
       "      <td>17279.03</td>\n",
       "      <td>feodorv</td>\n",
       "      <td>MSU RU</td>\n",
       "      <td>ru</td>\n",
       "      <td>1</td>\n",
       "      <td>5/26/17</td>\n",
       "    </tr>\n",
       "    <tr>\n",
       "      <th>4</th>\n",
       "      <td>/judge/en/profile/85063</td>\n",
       "      <td>17021.31</td>\n",
       "      <td>Gustavo Policarpo</td>\n",
       "      <td>INATEL</td>\n",
       "      <td>br</td>\n",
       "      <td>1</td>\n",
       "      <td>2/17/16</td>\n",
       "    </tr>\n",
       "    <tr>\n",
       "      <th>...</th>\n",
       "      <td>...</td>\n",
       "      <td>...</td>\n",
       "      <td>...</td>\n",
       "      <td>...</td>\n",
       "      <td>...</td>\n",
       "      <td>...</td>\n",
       "      <td>...</td>\n",
       "    </tr>\n",
       "    <tr>\n",
       "      <th>305201</th>\n",
       "      <td>/judge/en/profile/455213</td>\n",
       "      <td>1.00</td>\n",
       "      <td>John Wick</td>\n",
       "      <td>CUET</td>\n",
       "      <td>NaN</td>\n",
       "      <td>0</td>\n",
       "      <td>5/13/20</td>\n",
       "    </tr>\n",
       "    <tr>\n",
       "      <th>305202</th>\n",
       "      <td>/judge/en/profile/453290</td>\n",
       "      <td>1.00</td>\n",
       "      <td>Salman</td>\n",
       "      <td>Sem Faculdade</td>\n",
       "      <td>NaN</td>\n",
       "      <td>0</td>\n",
       "      <td>5/3/20</td>\n",
       "    </tr>\n",
       "    <tr>\n",
       "      <th>305203</th>\n",
       "      <td>/judge/en/profile/452242</td>\n",
       "      <td>1.00</td>\n",
       "      <td>Sávio</td>\n",
       "      <td>Sem Faculdade</td>\n",
       "      <td>NaN</td>\n",
       "      <td>0</td>\n",
       "      <td>4/27/20</td>\n",
       "    </tr>\n",
       "    <tr>\n",
       "      <th>305204</th>\n",
       "      <td>/judge/en/profile/403994</td>\n",
       "      <td>1.00</td>\n",
       "      <td>Marcos de Oliveira Santos</td>\n",
       "      <td>Sem Faculdade</td>\n",
       "      <td>NaN</td>\n",
       "      <td>0</td>\n",
       "      <td>10/25/19</td>\n",
       "    </tr>\n",
       "    <tr>\n",
       "      <th>305205</th>\n",
       "      <td>/judge/en/profile/82970</td>\n",
       "      <td>1.00</td>\n",
       "      <td>Shahidul</td>\n",
       "      <td>Sem Faculdade</td>\n",
       "      <td>NaN</td>\n",
       "      <td>0</td>\n",
       "      <td>NaN</td>\n",
       "    </tr>\n",
       "  </tbody>\n",
       "</table>\n",
       "<p>305206 rows × 7 columns</p>\n",
       "</div>"
      ],
      "text/plain": [
       "                          perfil    pontos                        nome_aluno  \\\n",
       "0        /judge/en/profile/40980  21151.57                      Maycon Alves   \n",
       "1        /judge/en/profile/13607  20527.39                    Gabriel Duarte   \n",
       "2        /judge/en/profile/34355  18020.44  Erick Leonardo de Sousa Monteiro   \n",
       "3       /judge/en/profile/175304  17279.03                           feodorv   \n",
       "4        /judge/en/profile/85063  17021.31                 Gustavo Policarpo   \n",
       "...                          ...       ...                               ...   \n",
       "305201  /judge/en/profile/455213      1.00                         John Wick   \n",
       "305202  /judge/en/profile/453290      1.00                            Salman   \n",
       "305203  /judge/en/profile/452242      1.00                             Sávio   \n",
       "305204  /judge/en/profile/403994      1.00        Marcos de Oliveira Santos    \n",
       "305205   /judge/en/profile/82970      1.00                          Shahidul   \n",
       "\n",
       "       faculdade_sigla pais  status data cadastro  \n",
       "0               INATEL   br       1       2/25/15  \n",
       "1                  UFF   br       1       2/10/14  \n",
       "2              UNICAMP   br       1      11/14/14  \n",
       "3               MSU RU   ru       1       5/26/17  \n",
       "4               INATEL   br       1       2/17/16  \n",
       "...                ...  ...     ...           ...  \n",
       "305201            CUET  NaN       0       5/13/20  \n",
       "305202   Sem Faculdade  NaN       0        5/3/20  \n",
       "305203   Sem Faculdade  NaN       0       4/27/20  \n",
       "305204   Sem Faculdade  NaN       0      10/25/19  \n",
       "305205   Sem Faculdade  NaN       0           NaN  \n",
       "\n",
       "[305206 rows x 7 columns]"
      ]
     },
     "execution_count": 527,
     "metadata": {},
     "output_type": "execute_result"
    }
   ],
   "source": [
    "data_alunos"
   ]
  },
  {
   "cell_type": "markdown",
   "metadata": {},
   "source": [
    "## Padronizando os países para maiúsculo"
   ]
  },
  {
   "cell_type": "code",
   "execution_count": 528,
   "metadata": {
    "ExecuteTime": {
     "end_time": "2020-10-08T06:35:56.450180Z",
     "start_time": "2020-10-08T06:35:56.320742Z"
    }
   },
   "outputs": [],
   "source": [
    "data_alunos['pais'] = data_alunos['pais'].str.upper()"
   ]
  },
  {
   "cell_type": "code",
   "execution_count": 529,
   "metadata": {
    "ExecuteTime": {
     "end_time": "2020-10-08T06:35:56.468148Z",
     "start_time": "2020-10-08T06:35:56.452556Z"
    }
   },
   "outputs": [
    {
     "data": {
      "text/html": [
       "<div>\n",
       "<style scoped>\n",
       "    .dataframe tbody tr th:only-of-type {\n",
       "        vertical-align: middle;\n",
       "    }\n",
       "\n",
       "    .dataframe tbody tr th {\n",
       "        vertical-align: top;\n",
       "    }\n",
       "\n",
       "    .dataframe thead th {\n",
       "        text-align: right;\n",
       "    }\n",
       "</style>\n",
       "<table border=\"1\" class=\"dataframe\">\n",
       "  <thead>\n",
       "    <tr style=\"text-align: right;\">\n",
       "      <th></th>\n",
       "      <th>perfil</th>\n",
       "      <th>pontos</th>\n",
       "      <th>nome_aluno</th>\n",
       "      <th>faculdade_sigla</th>\n",
       "      <th>pais</th>\n",
       "      <th>status</th>\n",
       "      <th>data cadastro</th>\n",
       "    </tr>\n",
       "  </thead>\n",
       "  <tbody>\n",
       "    <tr>\n",
       "      <th>0</th>\n",
       "      <td>/judge/en/profile/40980</td>\n",
       "      <td>21151.57</td>\n",
       "      <td>Maycon Alves</td>\n",
       "      <td>INATEL</td>\n",
       "      <td>BR</td>\n",
       "      <td>1</td>\n",
       "      <td>2/25/15</td>\n",
       "    </tr>\n",
       "    <tr>\n",
       "      <th>1</th>\n",
       "      <td>/judge/en/profile/13607</td>\n",
       "      <td>20527.39</td>\n",
       "      <td>Gabriel Duarte</td>\n",
       "      <td>UFF</td>\n",
       "      <td>BR</td>\n",
       "      <td>1</td>\n",
       "      <td>2/10/14</td>\n",
       "    </tr>\n",
       "    <tr>\n",
       "      <th>2</th>\n",
       "      <td>/judge/en/profile/34355</td>\n",
       "      <td>18020.44</td>\n",
       "      <td>Erick Leonardo de Sousa Monteiro</td>\n",
       "      <td>UNICAMP</td>\n",
       "      <td>BR</td>\n",
       "      <td>1</td>\n",
       "      <td>11/14/14</td>\n",
       "    </tr>\n",
       "    <tr>\n",
       "      <th>3</th>\n",
       "      <td>/judge/en/profile/175304</td>\n",
       "      <td>17279.03</td>\n",
       "      <td>feodorv</td>\n",
       "      <td>MSU RU</td>\n",
       "      <td>RU</td>\n",
       "      <td>1</td>\n",
       "      <td>5/26/17</td>\n",
       "    </tr>\n",
       "    <tr>\n",
       "      <th>4</th>\n",
       "      <td>/judge/en/profile/85063</td>\n",
       "      <td>17021.31</td>\n",
       "      <td>Gustavo Policarpo</td>\n",
       "      <td>INATEL</td>\n",
       "      <td>BR</td>\n",
       "      <td>1</td>\n",
       "      <td>2/17/16</td>\n",
       "    </tr>\n",
       "  </tbody>\n",
       "</table>\n",
       "</div>"
      ],
      "text/plain": [
       "                     perfil    pontos                        nome_aluno  \\\n",
       "0   /judge/en/profile/40980  21151.57                      Maycon Alves   \n",
       "1   /judge/en/profile/13607  20527.39                    Gabriel Duarte   \n",
       "2   /judge/en/profile/34355  18020.44  Erick Leonardo de Sousa Monteiro   \n",
       "3  /judge/en/profile/175304  17279.03                           feodorv   \n",
       "4   /judge/en/profile/85063  17021.31                 Gustavo Policarpo   \n",
       "\n",
       "  faculdade_sigla pais  status data cadastro  \n",
       "0          INATEL   BR       1       2/25/15  \n",
       "1             UFF   BR       1       2/10/14  \n",
       "2         UNICAMP   BR       1      11/14/14  \n",
       "3          MSU RU   RU       1       5/26/17  \n",
       "4          INATEL   BR       1       2/17/16  "
      ]
     },
     "execution_count": 529,
     "metadata": {},
     "output_type": "execute_result"
    }
   ],
   "source": [
    "data_alunos.head()"
   ]
  },
  {
   "cell_type": "markdown",
   "metadata": {},
   "source": [
    "## Criando Atributos : dia, mês, ano"
   ]
  },
  {
   "cell_type": "markdown",
   "metadata": {},
   "source": [
    "Convertendo coluna 'data cadastro' para formato datetime"
   ]
  },
  {
   "cell_type": "code",
   "execution_count": null,
   "metadata": {
    "ExecuteTime": {
     "start_time": "2020-10-08T06:35:42.948Z"
    }
   },
   "outputs": [],
   "source": [
    "data_alunos['data cadastro'] = pd.to_datetime(data_alunos['data cadastro'])"
   ]
  },
  {
   "cell_type": "code",
   "execution_count": null,
   "metadata": {
    "ExecuteTime": {
     "start_time": "2020-10-08T06:35:42.951Z"
    }
   },
   "outputs": [],
   "source": [
    "data_alunos.head()"
   ]
  },
  {
   "cell_type": "code",
   "execution_count": null,
   "metadata": {
    "ExecuteTime": {
     "start_time": "2020-10-08T06:35:42.953Z"
    }
   },
   "outputs": [],
   "source": [
    "data_alunos['dias_semana'] = data_alunos['data cadastro'].dt.day_name()\n",
    "data_alunos['mes_ano'] = data_alunos['data cadastro'].dt.month_name()\n",
    "data_alunos['ano'] = data_alunos['data cadastro'].dt.year"
   ]
  },
  {
   "cell_type": "code",
   "execution_count": null,
   "metadata": {
    "ExecuteTime": {
     "start_time": "2020-10-08T06:35:42.957Z"
    }
   },
   "outputs": [],
   "source": [
    "data_alunos.head()"
   ]
  },
  {
   "cell_type": "code",
   "execution_count": null,
   "metadata": {
    "ExecuteTime": {
     "start_time": "2020-10-08T06:35:42.960Z"
    }
   },
   "outputs": [],
   "source": [
    "data_alunos.info()"
   ]
  },
  {
   "cell_type": "markdown",
   "metadata": {},
   "source": [
    "## Salvar"
   ]
  },
  {
   "cell_type": "code",
   "execution_count": null,
   "metadata": {
    "ExecuteTime": {
     "start_time": "2020-10-08T06:35:42.962Z"
    }
   },
   "outputs": [],
   "source": [
    "data_alunos.to_csv('data_alunos_primeira_limp.csv', index=False)"
   ]
  },
  {
   "cell_type": "code",
   "execution_count": null,
   "metadata": {},
   "outputs": [],
   "source": []
  }
 ],
 "metadata": {
  "kernelspec": {
   "display_name": "Python 3",
   "language": "python",
   "name": "python3"
  },
  "language_info": {
   "codemirror_mode": {
    "name": "ipython",
    "version": 3
   },
   "file_extension": ".py",
   "mimetype": "text/x-python",
   "name": "python",
   "nbconvert_exporter": "python",
   "pygments_lexer": "ipython3",
   "version": "3.7.9"
  },
  "varInspector": {
   "cols": {
    "lenName": 16,
    "lenType": 16,
    "lenVar": 40
   },
   "kernels_config": {
    "python": {
     "delete_cmd_postfix": "",
     "delete_cmd_prefix": "del ",
     "library": "var_list.py",
     "varRefreshCmd": "print(var_dic_list())"
    },
    "r": {
     "delete_cmd_postfix": ") ",
     "delete_cmd_prefix": "rm(",
     "library": "var_list.r",
     "varRefreshCmd": "cat(var_dic_list()) "
    }
   },
   "types_to_exclude": [
    "module",
    "function",
    "builtin_function_or_method",
    "instance",
    "_Feature"
   ],
   "window_display": false
  }
 },
 "nbformat": 4,
 "nbformat_minor": 4
}
