{
 "cells": [
  {
   "cell_type": "markdown",
   "metadata": {},
   "source": [
    "# Limpando dados da tabela 'Faculdades'\n",
    "Padronizando os dados da tabela 'Faculdades', além de criar uma nova tabela contendo um balanço de dados referentes aos países dessas faculdades."
   ]
  },
  {
   "cell_type": "code",
   "execution_count": 2,
   "metadata": {
    "ExecuteTime": {
     "end_time": "2020-10-09T03:03:46.110677Z",
     "start_time": "2020-10-09T03:03:45.295623Z"
    }
   },
   "outputs": [],
   "source": [
    "import numpy as np\n",
    "import pandas as pd\n",
    "import matplotlib.pyplot as plt"
   ]
  },
  {
   "cell_type": "markdown",
   "metadata": {},
   "source": [
    "## Abrir arquivo"
   ]
  },
  {
   "cell_type": "code",
   "execution_count": 3,
   "metadata": {
    "ExecuteTime": {
     "end_time": "2020-10-09T03:03:46.197376Z",
     "start_time": "2020-10-09T03:03:46.113242Z"
    }
   },
   "outputs": [],
   "source": [
    "data_faculdade = pd.read_csv('rank_faculdades_6oct_2020.csv')"
   ]
  },
  {
   "cell_type": "code",
   "execution_count": 4,
   "metadata": {
    "ExecuteTime": {
     "end_time": "2020-10-09T03:03:46.230180Z",
     "start_time": "2020-10-09T03:03:46.200253Z"
    }
   },
   "outputs": [
    {
     "data": {
      "text/html": [
       "<div>\n",
       "<style scoped>\n",
       "    .dataframe tbody tr th:only-of-type {\n",
       "        vertical-align: middle;\n",
       "    }\n",
       "\n",
       "    .dataframe tbody tr th {\n",
       "        vertical-align: top;\n",
       "    }\n",
       "\n",
       "    .dataframe thead th {\n",
       "        text-align: right;\n",
       "    }\n",
       "</style>\n",
       "<table border=\"1\" class=\"dataframe\">\n",
       "  <thead>\n",
       "    <tr style=\"text-align: right;\">\n",
       "      <th></th>\n",
       "      <th>rank</th>\n",
       "      <th>sigla</th>\n",
       "      <th>nome_fac</th>\n",
       "      <th>pais</th>\n",
       "      <th>resolvidos</th>\n",
       "      <th>estudantes</th>\n",
       "    </tr>\n",
       "  </thead>\n",
       "  <tbody>\n",
       "    <tr>\n",
       "      <th>0</th>\n",
       "      <td>27</td>\n",
       "      <td>PUCGO</td>\n",
       "      <td>Pontifícia Universidade Católica de Goiás</td>\n",
       "      <td>br</td>\n",
       "      <td>43414</td>\n",
       "      <td>762</td>\n",
       "    </tr>\n",
       "    <tr>\n",
       "      <th>1</th>\n",
       "      <td>28</td>\n",
       "      <td>UFSCAR</td>\n",
       "      <td>Universidade Federal de São Carlos</td>\n",
       "      <td>br</td>\n",
       "      <td>41207</td>\n",
       "      <td>1042</td>\n",
       "    </tr>\n",
       "    <tr>\n",
       "      <th>2</th>\n",
       "      <td>29</td>\n",
       "      <td>UFMG</td>\n",
       "      <td>Universidade Federal de Minas Gerais</td>\n",
       "      <td>br</td>\n",
       "      <td>40361</td>\n",
       "      <td>1200</td>\n",
       "    </tr>\n",
       "    <tr>\n",
       "      <th>3</th>\n",
       "      <td>30</td>\n",
       "      <td>EWU</td>\n",
       "      <td>East West University</td>\n",
       "      <td>bd</td>\n",
       "      <td>40048</td>\n",
       "      <td>829</td>\n",
       "    </tr>\n",
       "    <tr>\n",
       "      <th>4</th>\n",
       "      <td>31</td>\n",
       "      <td>UFRN</td>\n",
       "      <td>Universidade Federal do Rio Grande do Norte</td>\n",
       "      <td>br</td>\n",
       "      <td>39666</td>\n",
       "      <td>1309</td>\n",
       "    </tr>\n",
       "    <tr>\n",
       "      <th>...</th>\n",
       "      <td>...</td>\n",
       "      <td>...</td>\n",
       "      <td>...</td>\n",
       "      <td>...</td>\n",
       "      <td>...</td>\n",
       "      <td>...</td>\n",
       "    </tr>\n",
       "    <tr>\n",
       "      <th>2594</th>\n",
       "      <td>2570</td>\n",
       "      <td>UOS</td>\n",
       "      <td>University of Sindh</td>\n",
       "      <td>pk</td>\n",
       "      <td>0</td>\n",
       "      <td>0</td>\n",
       "    </tr>\n",
       "    <tr>\n",
       "      <th>2595</th>\n",
       "      <td>2571</td>\n",
       "      <td>SDU</td>\n",
       "      <td>University of Southern Denmark</td>\n",
       "      <td>dk</td>\n",
       "      <td>0</td>\n",
       "      <td>0</td>\n",
       "    </tr>\n",
       "    <tr>\n",
       "      <th>2596</th>\n",
       "      <td>2572</td>\n",
       "      <td>USW</td>\n",
       "      <td>University of South Wales</td>\n",
       "      <td>ae</td>\n",
       "      <td>0</td>\n",
       "      <td>0</td>\n",
       "    </tr>\n",
       "    <tr>\n",
       "      <th>2597</th>\n",
       "      <td>2573</td>\n",
       "      <td>USJP</td>\n",
       "      <td>University of Sri Jayewardenepura</td>\n",
       "      <td>lk</td>\n",
       "      <td>0</td>\n",
       "      <td>0</td>\n",
       "    </tr>\n",
       "    <tr>\n",
       "      <th>2598</th>\n",
       "      <td>2574</td>\n",
       "      <td>UniStutt</td>\n",
       "      <td>University of Stuttgart</td>\n",
       "      <td>de</td>\n",
       "      <td>0</td>\n",
       "      <td>0</td>\n",
       "    </tr>\n",
       "  </tbody>\n",
       "</table>\n",
       "<p>2599 rows × 6 columns</p>\n",
       "</div>"
      ],
      "text/plain": [
       "      rank     sigla                                     nome_fac pais  \\\n",
       "0       27     PUCGO    Pontifícia Universidade Católica de Goiás   br   \n",
       "1       28    UFSCAR           Universidade Federal de São Carlos   br   \n",
       "2       29      UFMG         Universidade Federal de Minas Gerais   br   \n",
       "3       30       EWU                        East West University    bd   \n",
       "4       31      UFRN  Universidade Federal do Rio Grande do Norte   br   \n",
       "...    ...       ...                                          ...  ...   \n",
       "2594  2570       UOS                          University of Sindh   pk   \n",
       "2595  2571       SDU               University of Southern Denmark   dk   \n",
       "2596  2572       USW                    University of South Wales   ae   \n",
       "2597  2573      USJP            University of Sri Jayewardenepura   lk   \n",
       "2598  2574  UniStutt                      University of Stuttgart   de   \n",
       "\n",
       "      resolvidos  estudantes  \n",
       "0          43414         762  \n",
       "1          41207        1042  \n",
       "2          40361        1200  \n",
       "3          40048         829  \n",
       "4          39666        1309  \n",
       "...          ...         ...  \n",
       "2594           0           0  \n",
       "2595           0           0  \n",
       "2596           0           0  \n",
       "2597           0           0  \n",
       "2598           0           0  \n",
       "\n",
       "[2599 rows x 6 columns]"
      ]
     },
     "execution_count": 4,
     "metadata": {},
     "output_type": "execute_result"
    }
   ],
   "source": [
    "data_faculdade"
   ]
  },
  {
   "cell_type": "markdown",
   "metadata": {},
   "source": [
    "## Procurar por dados duplicados"
   ]
  },
  {
   "cell_type": "code",
   "execution_count": 5,
   "metadata": {
    "ExecuteTime": {
     "end_time": "2020-10-09T03:03:46.240821Z",
     "start_time": "2020-10-09T03:03:46.233075Z"
    }
   },
   "outputs": [
    {
     "data": {
      "text/plain": [
       "0"
      ]
     },
     "execution_count": 5,
     "metadata": {},
     "output_type": "execute_result"
    }
   ],
   "source": [
    "(data_faculdade['sigla'].duplicated()).sum()"
   ]
  },
  {
   "cell_type": "markdown",
   "metadata": {},
   "source": [
    "## Organizar dados"
   ]
  },
  {
   "cell_type": "code",
   "execution_count": 6,
   "metadata": {
    "ExecuteTime": {
     "end_time": "2020-10-09T03:03:46.250157Z",
     "start_time": "2020-10-09T03:03:46.243013Z"
    }
   },
   "outputs": [],
   "source": [
    "data_faculdade.sort_values('rank', inplace=True)"
   ]
  },
  {
   "cell_type": "code",
   "execution_count": 7,
   "metadata": {
    "ExecuteTime": {
     "end_time": "2020-10-09T03:03:46.256859Z",
     "start_time": "2020-10-09T03:03:46.252942Z"
    }
   },
   "outputs": [],
   "source": [
    "data_faculdade.reset_index(drop=True, inplace=True)"
   ]
  },
  {
   "cell_type": "code",
   "execution_count": 8,
   "metadata": {
    "ExecuteTime": {
     "end_time": "2020-10-09T03:03:46.268220Z",
     "start_time": "2020-10-09T03:03:46.259500Z"
    }
   },
   "outputs": [],
   "source": [
    "data_faculdade['pais'] = data_faculdade['pais'].str.upper()"
   ]
  },
  {
   "cell_type": "code",
   "execution_count": 9,
   "metadata": {
    "ExecuteTime": {
     "end_time": "2020-10-09T03:03:46.297721Z",
     "start_time": "2020-10-09T03:03:46.274064Z"
    }
   },
   "outputs": [
    {
     "data": {
      "text/html": [
       "<div>\n",
       "<style scoped>\n",
       "    .dataframe tbody tr th:only-of-type {\n",
       "        vertical-align: middle;\n",
       "    }\n",
       "\n",
       "    .dataframe tbody tr th {\n",
       "        vertical-align: top;\n",
       "    }\n",
       "\n",
       "    .dataframe thead th {\n",
       "        text-align: right;\n",
       "    }\n",
       "</style>\n",
       "<table border=\"1\" class=\"dataframe\">\n",
       "  <thead>\n",
       "    <tr style=\"text-align: right;\">\n",
       "      <th></th>\n",
       "      <th>rank</th>\n",
       "      <th>sigla</th>\n",
       "      <th>nome_fac</th>\n",
       "      <th>pais</th>\n",
       "      <th>resolvidos</th>\n",
       "      <th>estudantes</th>\n",
       "    </tr>\n",
       "  </thead>\n",
       "  <tbody>\n",
       "    <tr>\n",
       "      <th>0</th>\n",
       "      <td>1</td>\n",
       "      <td>DIU</td>\n",
       "      <td>Daffodil International University</td>\n",
       "      <td>BD</td>\n",
       "      <td>288590</td>\n",
       "      <td>6480</td>\n",
       "    </tr>\n",
       "    <tr>\n",
       "      <th>1</th>\n",
       "      <td>2</td>\n",
       "      <td>UNIFEI</td>\n",
       "      <td>Universidade Federal de Itajubá</td>\n",
       "      <td>BR</td>\n",
       "      <td>178209</td>\n",
       "      <td>2610</td>\n",
       "    </tr>\n",
       "    <tr>\n",
       "      <th>2</th>\n",
       "      <td>3</td>\n",
       "      <td>UFU</td>\n",
       "      <td>Universidade Federal de Uberlândia</td>\n",
       "      <td>BR</td>\n",
       "      <td>108081</td>\n",
       "      <td>1888</td>\n",
       "    </tr>\n",
       "    <tr>\n",
       "      <th>3</th>\n",
       "      <td>4</td>\n",
       "      <td>INATEL</td>\n",
       "      <td>Instituto Nacional de Telecomunicações</td>\n",
       "      <td>BR</td>\n",
       "      <td>104629</td>\n",
       "      <td>1592</td>\n",
       "    </tr>\n",
       "    <tr>\n",
       "      <th>4</th>\n",
       "      <td>5</td>\n",
       "      <td>IFSULDEMINAS</td>\n",
       "      <td>Instituto Federal do Sul de Minas Gerais</td>\n",
       "      <td>BR</td>\n",
       "      <td>101527</td>\n",
       "      <td>1340</td>\n",
       "    </tr>\n",
       "    <tr>\n",
       "      <th>...</th>\n",
       "      <td>...</td>\n",
       "      <td>...</td>\n",
       "      <td>...</td>\n",
       "      <td>...</td>\n",
       "      <td>...</td>\n",
       "      <td>...</td>\n",
       "    </tr>\n",
       "    <tr>\n",
       "      <th>2594</th>\n",
       "      <td>2595</td>\n",
       "      <td>WUT</td>\n",
       "      <td>Westminster University in Tashkent</td>\n",
       "      <td>UZ</td>\n",
       "      <td>0</td>\n",
       "      <td>0</td>\n",
       "    </tr>\n",
       "    <tr>\n",
       "      <th>2595</th>\n",
       "      <td>2596</td>\n",
       "      <td>WTC</td>\n",
       "      <td>We Think Code</td>\n",
       "      <td>ZA</td>\n",
       "      <td>0</td>\n",
       "      <td>0</td>\n",
       "    </tr>\n",
       "    <tr>\n",
       "      <th>2596</th>\n",
       "      <td>2597</td>\n",
       "      <td>XJTU</td>\n",
       "      <td>Xi'an Jiaotong University</td>\n",
       "      <td>CN</td>\n",
       "      <td>0</td>\n",
       "      <td>0</td>\n",
       "    </tr>\n",
       "    <tr>\n",
       "      <th>2597</th>\n",
       "      <td>2598</td>\n",
       "      <td>XIDIAN</td>\n",
       "      <td>Xidian University</td>\n",
       "      <td>CN</td>\n",
       "      <td>0</td>\n",
       "      <td>0</td>\n",
       "    </tr>\n",
       "    <tr>\n",
       "      <th>2598</th>\n",
       "      <td>2599</td>\n",
       "      <td>ZHENGZHOU</td>\n",
       "      <td>Zhengzhou University</td>\n",
       "      <td>CN</td>\n",
       "      <td>0</td>\n",
       "      <td>0</td>\n",
       "    </tr>\n",
       "  </tbody>\n",
       "</table>\n",
       "<p>2599 rows × 6 columns</p>\n",
       "</div>"
      ],
      "text/plain": [
       "      rank         sigla                                  nome_fac pais  \\\n",
       "0        1           DIU         Daffodil International University   BD   \n",
       "1        2        UNIFEI           Universidade Federal de Itajubá   BR   \n",
       "2        3           UFU        Universidade Federal de Uberlândia   BR   \n",
       "3        4        INATEL    Instituto Nacional de Telecomunicações   BR   \n",
       "4        5  IFSULDEMINAS  Instituto Federal do Sul de Minas Gerais   BR   \n",
       "...    ...           ...                                       ...  ...   \n",
       "2594  2595           WUT        Westminster University in Tashkent   UZ   \n",
       "2595  2596           WTC                             We Think Code   ZA   \n",
       "2596  2597          XJTU                 Xi'an Jiaotong University   CN   \n",
       "2597  2598        XIDIAN                         Xidian University   CN   \n",
       "2598  2599     ZHENGZHOU                      Zhengzhou University   CN   \n",
       "\n",
       "      resolvidos  estudantes  \n",
       "0         288590        6480  \n",
       "1         178209        2610  \n",
       "2         108081        1888  \n",
       "3         104629        1592  \n",
       "4         101527        1340  \n",
       "...          ...         ...  \n",
       "2594           0           0  \n",
       "2595           0           0  \n",
       "2596           0           0  \n",
       "2597           0           0  \n",
       "2598           0           0  \n",
       "\n",
       "[2599 rows x 6 columns]"
      ]
     },
     "execution_count": 9,
     "metadata": {},
     "output_type": "execute_result"
    }
   ],
   "source": [
    "data_faculdade"
   ]
  },
  {
   "cell_type": "markdown",
   "metadata": {},
   "source": [
    "## Criar tabela para unir a quantidade de faculdades/alunos/resolvidos de um determinado país "
   ]
  },
  {
   "cell_type": "code",
   "execution_count": 10,
   "metadata": {
    "ExecuteTime": {
     "end_time": "2020-10-09T03:03:46.309106Z",
     "start_time": "2020-10-09T03:03:46.303813Z"
    }
   },
   "outputs": [],
   "source": [
    "unindo_dados_faculdade = data_faculdade.copy()"
   ]
  },
  {
   "cell_type": "code",
   "execution_count": 11,
   "metadata": {
    "ExecuteTime": {
     "end_time": "2020-10-09T03:03:46.317824Z",
     "start_time": "2020-10-09T03:03:46.312804Z"
    }
   },
   "outputs": [],
   "source": [
    "unindo_dados_faculdade['Numero de faculdades'] = 1"
   ]
  },
  {
   "cell_type": "code",
   "execution_count": 12,
   "metadata": {
    "ExecuteTime": {
     "end_time": "2020-10-09T03:03:46.332661Z",
     "start_time": "2020-10-09T03:03:46.320588Z"
    }
   },
   "outputs": [
    {
     "data": {
      "text/html": [
       "<div>\n",
       "<style scoped>\n",
       "    .dataframe tbody tr th:only-of-type {\n",
       "        vertical-align: middle;\n",
       "    }\n",
       "\n",
       "    .dataframe tbody tr th {\n",
       "        vertical-align: top;\n",
       "    }\n",
       "\n",
       "    .dataframe thead th {\n",
       "        text-align: right;\n",
       "    }\n",
       "</style>\n",
       "<table border=\"1\" class=\"dataframe\">\n",
       "  <thead>\n",
       "    <tr style=\"text-align: right;\">\n",
       "      <th></th>\n",
       "      <th>rank</th>\n",
       "      <th>sigla</th>\n",
       "      <th>nome_fac</th>\n",
       "      <th>pais</th>\n",
       "      <th>resolvidos</th>\n",
       "      <th>estudantes</th>\n",
       "      <th>Numero de faculdades</th>\n",
       "    </tr>\n",
       "  </thead>\n",
       "  <tbody>\n",
       "    <tr>\n",
       "      <th>0</th>\n",
       "      <td>1</td>\n",
       "      <td>DIU</td>\n",
       "      <td>Daffodil International University</td>\n",
       "      <td>BD</td>\n",
       "      <td>288590</td>\n",
       "      <td>6480</td>\n",
       "      <td>1</td>\n",
       "    </tr>\n",
       "    <tr>\n",
       "      <th>1</th>\n",
       "      <td>2</td>\n",
       "      <td>UNIFEI</td>\n",
       "      <td>Universidade Federal de Itajubá</td>\n",
       "      <td>BR</td>\n",
       "      <td>178209</td>\n",
       "      <td>2610</td>\n",
       "      <td>1</td>\n",
       "    </tr>\n",
       "    <tr>\n",
       "      <th>2</th>\n",
       "      <td>3</td>\n",
       "      <td>UFU</td>\n",
       "      <td>Universidade Federal de Uberlândia</td>\n",
       "      <td>BR</td>\n",
       "      <td>108081</td>\n",
       "      <td>1888</td>\n",
       "      <td>1</td>\n",
       "    </tr>\n",
       "    <tr>\n",
       "      <th>3</th>\n",
       "      <td>4</td>\n",
       "      <td>INATEL</td>\n",
       "      <td>Instituto Nacional de Telecomunicações</td>\n",
       "      <td>BR</td>\n",
       "      <td>104629</td>\n",
       "      <td>1592</td>\n",
       "      <td>1</td>\n",
       "    </tr>\n",
       "    <tr>\n",
       "      <th>4</th>\n",
       "      <td>5</td>\n",
       "      <td>IFSULDEMINAS</td>\n",
       "      <td>Instituto Federal do Sul de Minas Gerais</td>\n",
       "      <td>BR</td>\n",
       "      <td>101527</td>\n",
       "      <td>1340</td>\n",
       "      <td>1</td>\n",
       "    </tr>\n",
       "  </tbody>\n",
       "</table>\n",
       "</div>"
      ],
      "text/plain": [
       "   rank         sigla                                  nome_fac pais  \\\n",
       "0     1           DIU         Daffodil International University   BD   \n",
       "1     2        UNIFEI           Universidade Federal de Itajubá   BR   \n",
       "2     3           UFU        Universidade Federal de Uberlândia   BR   \n",
       "3     4        INATEL    Instituto Nacional de Telecomunicações   BR   \n",
       "4     5  IFSULDEMINAS  Instituto Federal do Sul de Minas Gerais   BR   \n",
       "\n",
       "   resolvidos  estudantes  Numero de faculdades  \n",
       "0      288590        6480                     1  \n",
       "1      178209        2610                     1  \n",
       "2      108081        1888                     1  \n",
       "3      104629        1592                     1  \n",
       "4      101527        1340                     1  "
      ]
     },
     "execution_count": 12,
     "metadata": {},
     "output_type": "execute_result"
    }
   ],
   "source": [
    "unindo_dados_faculdade.head()"
   ]
  },
  {
   "cell_type": "code",
   "execution_count": 13,
   "metadata": {
    "ExecuteTime": {
     "end_time": "2020-10-09T03:03:46.345439Z",
     "start_time": "2020-10-09T03:03:46.337435Z"
    }
   },
   "outputs": [],
   "source": [
    "unindo_dados_faculdade.drop(['nome_fac','rank'], axis=1, inplace=True)"
   ]
  },
  {
   "cell_type": "code",
   "execution_count": 14,
   "metadata": {
    "ExecuteTime": {
     "end_time": "2020-10-09T03:03:46.358252Z",
     "start_time": "2020-10-09T03:03:46.347598Z"
    }
   },
   "outputs": [],
   "source": [
    "data_numero_faculdades_pais = unindo_dados_faculdade.groupby('pais').sum().sort_values('estudantes',ascending=False )"
   ]
  },
  {
   "cell_type": "code",
   "execution_count": 15,
   "metadata": {
    "ExecuteTime": {
     "end_time": "2020-10-09T03:03:46.375825Z",
     "start_time": "2020-10-09T03:03:46.360479Z"
    }
   },
   "outputs": [
    {
     "data": {
      "text/html": [
       "<div>\n",
       "<style scoped>\n",
       "    .dataframe tbody tr th:only-of-type {\n",
       "        vertical-align: middle;\n",
       "    }\n",
       "\n",
       "    .dataframe tbody tr th {\n",
       "        vertical-align: top;\n",
       "    }\n",
       "\n",
       "    .dataframe thead th {\n",
       "        text-align: right;\n",
       "    }\n",
       "</style>\n",
       "<table border=\"1\" class=\"dataframe\">\n",
       "  <thead>\n",
       "    <tr style=\"text-align: right;\">\n",
       "      <th></th>\n",
       "      <th>resolvidos</th>\n",
       "      <th>estudantes</th>\n",
       "      <th>Numero de faculdades</th>\n",
       "    </tr>\n",
       "    <tr>\n",
       "      <th>pais</th>\n",
       "      <th></th>\n",
       "      <th></th>\n",
       "      <th></th>\n",
       "    </tr>\n",
       "  </thead>\n",
       "  <tbody>\n",
       "    <tr>\n",
       "      <th>BR</th>\n",
       "      <td>4504254</td>\n",
       "      <td>111937</td>\n",
       "      <td>985</td>\n",
       "    </tr>\n",
       "    <tr>\n",
       "      <th>BD</th>\n",
       "      <td>1219389</td>\n",
       "      <td>31752</td>\n",
       "      <td>291</td>\n",
       "    </tr>\n",
       "    <tr>\n",
       "      <th>EG</th>\n",
       "      <td>141413</td>\n",
       "      <td>3983</td>\n",
       "      <td>85</td>\n",
       "    </tr>\n",
       "    <tr>\n",
       "      <th>IN</th>\n",
       "      <td>42257</td>\n",
       "      <td>1769</td>\n",
       "      <td>351</td>\n",
       "    </tr>\n",
       "    <tr>\n",
       "      <th>MX</th>\n",
       "      <td>44982</td>\n",
       "      <td>1592</td>\n",
       "      <td>63</td>\n",
       "    </tr>\n",
       "    <tr>\n",
       "      <th>...</th>\n",
       "      <td>...</td>\n",
       "      <td>...</td>\n",
       "      <td>...</td>\n",
       "    </tr>\n",
       "    <tr>\n",
       "      <th>EE</th>\n",
       "      <td>0</td>\n",
       "      <td>0</td>\n",
       "      <td>1</td>\n",
       "    </tr>\n",
       "    <tr>\n",
       "      <th>GH</th>\n",
       "      <td>0</td>\n",
       "      <td>0</td>\n",
       "      <td>1</td>\n",
       "    </tr>\n",
       "    <tr>\n",
       "      <th>IS</th>\n",
       "      <td>0</td>\n",
       "      <td>0</td>\n",
       "      <td>1</td>\n",
       "    </tr>\n",
       "    <tr>\n",
       "      <th>GR</th>\n",
       "      <td>0</td>\n",
       "      <td>0</td>\n",
       "      <td>1</td>\n",
       "    </tr>\n",
       "    <tr>\n",
       "      <th>GY</th>\n",
       "      <td>0</td>\n",
       "      <td>0</td>\n",
       "      <td>1</td>\n",
       "    </tr>\n",
       "  </tbody>\n",
       "</table>\n",
       "<p>102 rows × 3 columns</p>\n",
       "</div>"
      ],
      "text/plain": [
       "      resolvidos  estudantes  Numero de faculdades\n",
       "pais                                              \n",
       "BR       4504254      111937                   985\n",
       "BD       1219389       31752                   291\n",
       "EG        141413        3983                    85\n",
       "IN         42257        1769                   351\n",
       "MX         44982        1592                    63\n",
       "...          ...         ...                   ...\n",
       "EE             0           0                     1\n",
       "GH             0           0                     1\n",
       "IS             0           0                     1\n",
       "GR             0           0                     1\n",
       "GY             0           0                     1\n",
       "\n",
       "[102 rows x 3 columns]"
      ]
     },
     "execution_count": 15,
     "metadata": {},
     "output_type": "execute_result"
    }
   ],
   "source": [
    "data_numero_faculdades_pais"
   ]
  },
  {
   "cell_type": "code",
   "execution_count": 18,
   "metadata": {
    "ExecuteTime": {
     "end_time": "2020-10-09T03:08:20.010786Z",
     "start_time": "2020-10-09T03:08:19.976464Z"
    }
   },
   "outputs": [
    {
     "data": {
      "text/html": [
       "<div>\n",
       "<style scoped>\n",
       "    .dataframe tbody tr th:only-of-type {\n",
       "        vertical-align: middle;\n",
       "    }\n",
       "\n",
       "    .dataframe tbody tr th {\n",
       "        vertical-align: top;\n",
       "    }\n",
       "\n",
       "    .dataframe thead th {\n",
       "        text-align: right;\n",
       "    }\n",
       "</style>\n",
       "<table border=\"1\" class=\"dataframe\">\n",
       "  <thead>\n",
       "    <tr style=\"text-align: right;\">\n",
       "      <th></th>\n",
       "      <th>sigla</th>\n",
       "      <th>nome_fac</th>\n",
       "      <th>pais</th>\n",
       "    </tr>\n",
       "  </thead>\n",
       "  <tbody>\n",
       "    <tr>\n",
       "      <th>count</th>\n",
       "      <td>2599</td>\n",
       "      <td>2599</td>\n",
       "      <td>2597</td>\n",
       "    </tr>\n",
       "    <tr>\n",
       "      <th>unique</th>\n",
       "      <td>2599</td>\n",
       "      <td>2599</td>\n",
       "      <td>102</td>\n",
       "    </tr>\n",
       "    <tr>\n",
       "      <th>top</th>\n",
       "      <td>PRU</td>\n",
       "      <td>Faculdade JK de Tecnologia</td>\n",
       "      <td>BR</td>\n",
       "    </tr>\n",
       "    <tr>\n",
       "      <th>freq</th>\n",
       "      <td>1</td>\n",
       "      <td>1</td>\n",
       "      <td>985</td>\n",
       "    </tr>\n",
       "  </tbody>\n",
       "</table>\n",
       "</div>"
      ],
      "text/plain": [
       "       sigla                    nome_fac  pais\n",
       "count   2599                        2599  2597\n",
       "unique  2599                        2599   102\n",
       "top      PRU  Faculdade JK de Tecnologia    BR\n",
       "freq       1                           1   985"
      ]
     },
     "execution_count": 18,
     "metadata": {},
     "output_type": "execute_result"
    }
   ],
   "source": [
    "data_faculdade.describe(include=['O'])"
   ]
  },
  {
   "cell_type": "code",
   "execution_count": null,
   "metadata": {},
   "outputs": [],
   "source": []
  }
 ],
 "metadata": {
  "kernelspec": {
   "display_name": "Python 3",
   "language": "python",
   "name": "python3"
  },
  "language_info": {
   "codemirror_mode": {
    "name": "ipython",
    "version": 3
   },
   "file_extension": ".py",
   "mimetype": "text/x-python",
   "name": "python",
   "nbconvert_exporter": "python",
   "pygments_lexer": "ipython3",
   "version": "3.7.9"
  },
  "varInspector": {
   "cols": {
    "lenName": 16,
    "lenType": 16,
    "lenVar": 40
   },
   "kernels_config": {
    "python": {
     "delete_cmd_postfix": "",
     "delete_cmd_prefix": "del ",
     "library": "var_list.py",
     "varRefreshCmd": "print(var_dic_list())"
    },
    "r": {
     "delete_cmd_postfix": ") ",
     "delete_cmd_prefix": "rm(",
     "library": "var_list.r",
     "varRefreshCmd": "cat(var_dic_list()) "
    }
   },
   "types_to_exclude": [
    "module",
    "function",
    "builtin_function_or_method",
    "instance",
    "_Feature"
   ],
   "window_display": false
  }
 },
 "nbformat": 4,
 "nbformat_minor": 4
}
